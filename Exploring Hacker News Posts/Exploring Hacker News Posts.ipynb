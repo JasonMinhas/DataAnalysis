{
 "cells": [
  {
   "cell_type": "markdown",
   "metadata": {},
   "source": [
    "# Exploring Hacker News Posts\n",
    "---\n",
    "We're specifically interested in posts whose titles begin with either Ask HN or Show HN. Users submit Ask HN posts to ask the Hacker News community a specific question. Below are a couple examples:\n",
    "\n",
    "- Ask HN: How to improve my personal website?\n",
    "- Ask HN: Am I the only one outraged by Twitter shutting down share counts?\n",
    "- Ask HN: Aby recent changes to CSS that broke mobile?\n",
    "\n",
    "Likewise, users submit Show HN posts to show the Hacker News community a project, product, or just generally something interesting. Below are a couple of examples:\n",
    "\n",
    "- Show HN: Wio Link  ESP8266 Based Web of Things Hardware Development Platform'\n",
    "- Show HN: Something pointless I made\n",
    "- Show HN: Shanhu.io, a programming playground powered by e8vm\n",
    "\n",
    "We'll compare these two types of posts to determine the following:\n",
    "\n",
    "- Do Ask HN or Show HN receive more comments on average?\n",
    "- Do posts created at a certain time receive more comments on average?\n",
    "\n",
    "Answering these two questions will help us to determine what hours are best for Ask HN and Show HN posts. The criteria for \"best\" is having high average comment count and high consistency.\n",
    "\n",
    "## Opening File"
   ]
  },
  {
   "cell_type": "code",
   "execution_count": 22,
   "metadata": {
    "scrolled": false
   },
   "outputs": [
    {
     "name": "stdout",
     "output_type": "stream",
     "text": [
      "['12579008', 'You have two days to comment if you want stem cells to be classified as your own', 'http://www.regulations.gov/document?D=FDA-2015-D-3719-0018', '1', '0', 'altstar', '9/26/2016 3:26']\n",
      "['12579005', 'SQLAR  the SQLite Archiver', 'https://www.sqlite.org/sqlar/doc/trunk/README.md', '1', '0', 'blacksqr', '9/26/2016 3:24']\n",
      "['12578997', 'What if we just printed a flatscreen television on the side of our boxes?', 'https://medium.com/vanmoof/our-secrets-out-f21c1f03fdc8#.ietxmez43', '1', '0', 'pavel_lishin', '9/26/2016 3:19']\n",
      "['12578989', 'algorithmic music', 'http://cacm.acm.org/magazines/2011/7/109891-algorithmic-composition/fulltext', '1', '0', 'poindontcare', '9/26/2016 3:16']\n",
      "['12578979', 'How the Data Vault Enables the Next-Gen Data Warehouse and Data Lake', 'https://www.talend.com/blog/2016/05/12/talend-and-Â\\x93the-data-vaultÂ\\x94', '1', '0', 'markgainor1', '9/26/2016 3:14']\n",
      "['12578975', 'Saving the Hassle of Shopping', 'https://blog.menswr.com/2016/09/07/whats-new-with-your-style-feed/', '1', '1', 'bdoux', '9/26/2016 3:13']\n",
      "['12578954', \"Macalifa  A new open-source music app for UWP that won't suck\", 'http://forums.windowscentral.com/windows-phone-apps/440523-macalifa-new-open-source-music-app-uwp-wont-suck.html', '1', '0', 'thecodrr', '9/26/2016 3:06']\n",
      "['12578942', 'GitHub  theweavrs/Macalifa: A music player written for UWP', 'https://github.com/theweavrs/Macalifa', '1', '0', 'thecodrr', '9/26/2016 3:04']\n",
      "['12578919', 'Google Allo  first Impression', 'http://prodissues.com/2016/09/google-allo-first-impression.html', '3', '0', 'jandll', '9/26/2016 2:57']\n",
      "['12578918', 'Advanced Multimedia on the Linux Command Line', 'https://avi.alkalay.net/2016/09/multimedia-linux-cli.html', '1', '0', 'mynameislegion', '9/26/2016 2:56']\n",
      "293119\n"
     ]
    }
   ],
   "source": [
    "from csv import reader\n",
    "\n",
    "openFile = open(r'C:\\Users\\Jason Minhas\\Jupyter Projects\\Exploring Hacker News Posts\\rawDate\\Hacker_News_Posts_09.26.2015-09.26.2016.csv', encoding=\"utf8\")\n",
    "readFile = reader(openFile)\n",
    "hackerNews = list(readFile)\n",
    "hackerNews = hackerNews[1:]\n",
    "\n",
    "for row in hackerNews[0:10]:print(row)\n",
    "    \n",
    "print(len(hackerNews))"
   ]
  },
  {
   "cell_type": "markdown",
   "metadata": {},
   "source": [
    "## Isolating \"Ask HN\" and \"Show HN\" posts\n",
    "\n",
    "Below we sort \"Ask HN\" and \"Show HN\" posts into their own datasets. This will allows us to work with each type of post without interfering with each other."
   ]
  },
  {
   "cell_type": "code",
   "execution_count": 4,
   "metadata": {},
   "outputs": [
    {
     "name": "stdout",
     "output_type": "stream",
     "text": [
      "Ask HN Count: 9139\n",
      "Show HN Count: 10158\n",
      "Total Count: 19297\n"
     ]
    }
   ],
   "source": [
    "askHN = []\n",
    "showHN = []\n",
    "\n",
    "for row in hackerNews:\n",
    "    title = row[1].lower()\n",
    "    if title[:6] == \"ask hn\":\n",
    "        askHN.append(row)\n",
    "    elif title[:7] == \"show hn\":\n",
    "        showHN.append(row)\n",
    "    else:\n",
    "        pass\n",
    "        \n",
    "print('Ask HN Count: ' + str(len(askHN)))\n",
    "print('Show HN Count: ' + str(len(showHN)))\n",
    "print('Total Count: ' + str(len(askHN)+len(showHN)))"
   ]
  },
  {
   "cell_type": "markdown",
   "metadata": {},
   "source": [
    "## Average by Column\n",
    "\n",
    "<code>columnAvg</code> is a function to get the average of any given column. In this case we will get the average comments for the both datasets."
   ]
  },
  {
   "cell_type": "code",
   "execution_count": 5,
   "metadata": {},
   "outputs": [],
   "source": [
    "def columnAvg(dataset, colIndex):\n",
    "    tempList = []\n",
    "    for row in dataset:\n",
    "        tempList.append(int(row[colIndex]))\n",
    "        \n",
    "    return round(sum(tempList)/len(tempList),2)"
   ]
  },
  {
   "cell_type": "code",
   "execution_count": 6,
   "metadata": {},
   "outputs": [
    {
     "name": "stdout",
     "output_type": "stream",
     "text": [
      "Ask HN Average Comment: 10.39\n",
      "Show HN Average Comment: 4.89\n"
     ]
    }
   ],
   "source": [
    "print('Ask HN Average Comment:', columnAvg(askHN,4))\n",
    "print('Show HN Average Comment:', columnAvg(showHN,4))"
   ]
  },
  {
   "cell_type": "markdown",
   "metadata": {},
   "source": [
    "\"Ask HN\" have 10.4 comments on average while \"Show HN\" posts have 4.89. Next we'll look at which one performs more consistently.\n",
    "\n",
    "## Standard Deviation by Column\n",
    "\n",
    "Similar to the <code>columnAvg</code> function the next part will help us determine the standard deviation of any given column. The first function <code>StDev</code> will help us get the standard deviation of any list, This function will be used in the next <code>columnStDev</code>."
   ]
  },
  {
   "cell_type": "code",
   "execution_count": 7,
   "metadata": {},
   "outputs": [],
   "source": [
    "def StDev(values):\n",
    "    mean = sum(values) / len(values)\n",
    "    variance = sum((i - mean) ** 2 for i in values)/(len(values)-1)    \n",
    "    return variance ** (1/2)"
   ]
  },
  {
   "cell_type": "code",
   "execution_count": 8,
   "metadata": {},
   "outputs": [],
   "source": [
    "def columnStDev(dataset, colIndex):\n",
    "    tempList = []\n",
    "    for row in dataset:\n",
    "        tempList.append(int(row[colIndex]))\n",
    "        \n",
    "    return round(StDev(tempList),2)"
   ]
  },
  {
   "cell_type": "code",
   "execution_count": 9,
   "metadata": {},
   "outputs": [
    {
     "name": "stdout",
     "output_type": "stream",
     "text": [
      "Ask HN Standard Deviation: 43.51\n",
      "Show HN Standard Deviation: 16.15\n"
     ]
    }
   ],
   "source": [
    "print('Ask HN Standard Deviation:',columnStDev(askHN,4))\n",
    "print('Show HN Standard Deviation:',columnStDev(showHN,4))"
   ]
  },
  {
   "cell_type": "markdown",
   "metadata": {},
   "source": [
    "\"Ask HN\" has a standard deviation of 43.53 comments while \"Show HN\" posts has 16.15. Although \"Show HN\" has less comments on average it receives a more consistent number of comments.\n",
    "\n",
    "## Converting column to datetime format\n",
    "\n",
    "<code>datetimeConvert</code> function below will allow us to convert any given column into datetime. This will make it easier to manipulate our datasets in regards to hour which is what our focus will be in the analysis."
   ]
  },
  {
   "cell_type": "code",
   "execution_count": 10,
   "metadata": {},
   "outputs": [],
   "source": [
    "def datetimeConvert(dataset, colIndex, datetimeFormatStr):\n",
    "    import datetime as dt\n",
    "    \n",
    "    for row in dataset:\n",
    "        if type(row[colIndex]) != 'datetime.datetime':\n",
    "            datetimeConverted = dt.datetime.strptime(row[colIndex], datetimeFormatStr)\n",
    "            row[colIndex] = datetimeConverted\n",
    "        else: pass\n",
    "        \n",
    "    return dataset\n",
    "        \n",
    "askHN = datetimeConvert(askHN, 6, \"%m/%d/%Y %H:%M\")\n",
    "showHN = datetimeConvert(showHN, 6, \"%m/%d/%Y %H:%M\")"
   ]
  },
  {
   "cell_type": "markdown",
   "metadata": {},
   "source": [
    "\n",
    "## Frequency Tables\n",
    "\n",
    "Both <code>countByHour</code> and <code>commentsByHour</code> functions create dictionaries that will be used in <code>commentAvgByHour</code>."
   ]
  },
  {
   "cell_type": "code",
   "execution_count": 11,
   "metadata": {},
   "outputs": [],
   "source": [
    "def countByHour(dataset, hourIndex):\n",
    "    freqTable = {}\n",
    "    for row in dataset:\n",
    "        hour = row[hourIndex].strftime(\"%I:00 %p\")\n",
    "        if hour in freqTable:\n",
    "            freqTable[hour] += 1\n",
    "        else:\n",
    "            freqTable[hour] = 1\n",
    "    return freqTable"
   ]
  },
  {
   "cell_type": "code",
   "execution_count": 12,
   "metadata": {},
   "outputs": [],
   "source": [
    "def commentsByHour(dataset, hourIndex, commentIndex):\n",
    "    freqTable= {}\n",
    "    for row in dataset:\n",
    "        hour = row[hourIndex].strftime(\"%I:00 %p\")\n",
    "        commentAmt = int(row[4])\n",
    "        if hour in freqTable:\n",
    "            freqTable[hour] += commentAmt\n",
    "        else:\n",
    "            freqTable[hour] = commentAmt\n",
    "    return freqTable"
   ]
  },
  {
   "cell_type": "markdown",
   "metadata": {},
   "source": [
    "<code>commentAvgByHour</code> prints the average comments by hour for a given dataset. In our case we are looking at the \"Ask HN\" and \"Show HN\" posts."
   ]
  },
  {
   "cell_type": "code",
   "execution_count": 13,
   "metadata": {},
   "outputs": [],
   "source": [
    "def commentAvgByHour(dataset, hourIndex, commentIndex):\n",
    "    dataset_CountByHour = countByHour(dataset,hourIndex)\n",
    "    dataset_CommentsByHour = commentsByHour(dataset, hourIndex, commentIndex)  \n",
    "    \n",
    "    commentAvgByHour = {}\n",
    "    \n",
    "    for item in dataset_CountByHour:\n",
    "        commentAvgByHour[item] = round(dataset_CommentsByHour[item]/dataset_CountByHour[item],2)\n",
    "\n",
    "    commentAvgByHour = {k: v for k, v in sorted(commentAvgByHour.items(), key=lambda item: item[1], reverse=True)}\n",
    "\n",
    "    return commentAvgByHour"
   ]
  },
  {
   "cell_type": "code",
   "execution_count": 14,
   "metadata": {
    "scrolled": false
   },
   "outputs": [
    {
     "name": "stdout",
     "output_type": "stream",
     "text": [
      "Average Comments By Hour for Ask HN\n",
      "03:00 PM - 28.68\n",
      "01:00 PM - 16.32\n",
      "12:00 PM - 12.38\n",
      "02:00 AM - 11.14\n",
      "10:00 AM - 10.68\n",
      "04:00 AM - 9.71\n",
      "02:00 PM - 9.69\n",
      "05:00 PM - 9.45\n",
      "08:00 AM - 9.19\n",
      "11:00 AM - 8.96\n",
      "10:00 PM - 8.8\n",
      "05:00 AM - 8.79\n",
      "08:00 PM - 8.75\n",
      "09:00 PM - 8.69\n",
      "03:00 AM - 7.95\n",
      "06:00 PM - 7.94\n",
      "04:00 PM - 7.71\n",
      "12:00 AM - 7.56\n",
      "01:00 AM - 7.41\n",
      "07:00 PM - 7.16\n",
      "07:00 AM - 7.01\n",
      "06:00 AM - 6.78\n",
      "11:00 PM - 6.7\n",
      "09:00 AM - 6.65\n",
      "\n",
      "\n",
      "Average Comments By Hour for Show HN\n",
      "12:00 PM - 6.99\n",
      "07:00 AM - 6.68\n",
      "11:00 AM - 6.0\n",
      "08:00 AM - 5.6\n",
      "02:00 PM - 5.52\n",
      "01:00 PM - 5.43\n",
      "02:00 AM - 5.15\n",
      "04:00 AM - 5.04\n",
      "07:00 PM - 5.02\n",
      "06:00 PM - 4.94\n",
      "04:00 PM - 4.71\n",
      "06:00 AM - 4.71\n",
      "09:00 AM - 4.67\n",
      "12:00 AM - 4.65\n",
      "03:00 PM - 4.57\n",
      "11:00 PM - 4.53\n",
      "03:00 AM - 4.53\n",
      "05:00 PM - 4.25\n",
      "08:00 PM - 4.16\n",
      "09:00 PM - 4.09\n",
      "01:00 AM - 4.07\n",
      "10:00 PM - 3.85\n",
      "10:00 AM - 3.8\n",
      "05:00 AM - 3.44\n"
     ]
    }
   ],
   "source": [
    "askHNcommentAvgByHour = commentAvgByHour(askHN, 6, 4)\n",
    "showHNcommentAvgByHour = commentAvgByHour(showHN, 6, 4)\n",
    "\n",
    "print('Average Comments By Hour for Ask HN')\n",
    "for item in askHNcommentAvgByHour: \n",
    "    print(item, '-', askHNcommentAvgByHour[item])\n",
    "print('\\n')\n",
    "print('Average Comments By Hour for Show HN')\n",
    "for item in showHNcommentAvgByHour: \n",
    "    print(item, '-', showHNcommentAvgByHour[item])"
   ]
  },
  {
   "cell_type": "code",
   "execution_count": 15,
   "metadata": {
    "scrolled": false
   },
   "outputs": [],
   "source": [
    "def commentStDevByHour(dataset, hourIndex, commentIndex):\n",
    "    commentStDevByHour = {}\n",
    "    for row in dataset:\n",
    "        hour = row[hourIndex].strftime(\"%I:00 %p\")\n",
    "        commentAmt = int(row[4])\n",
    "        if hour in commentStDevByHour:\n",
    "            commentStDevByHour[hour].append(commentAmt)\n",
    "        else:\n",
    "            commentStDevByHour[hour] = []\n",
    "    \n",
    "    for item in commentStDevByHour: \n",
    "        commentStDevByHour[item] = round(StDev(commentStDevByHour[item]), 2)      \n",
    "            \n",
    "    commentStDevByHour = {k: v for k, v in sorted(commentStDevByHour.items(), key=lambda item: item[1])}\n",
    "    \n",
    "    return commentStDevByHour"
   ]
  },
  {
   "cell_type": "code",
   "execution_count": 16,
   "metadata": {},
   "outputs": [
    {
     "name": "stdout",
     "output_type": "stream",
     "text": [
      "Standard Deviation of Comments By Hour for Ask HN\n",
      "11:00 PM - 13.07\n",
      "06:00 AM - 13.86\n",
      "09:00 AM - 14.89\n",
      "03:00 AM - 17.5\n",
      "07:00 PM - 18.5\n",
      "01:00 AM - 20.06\n",
      "07:00 AM - 20.65\n",
      "12:00 AM - 21.15\n",
      "08:00 AM - 23.32\n",
      "10:00 AM - 23.7\n",
      "11:00 AM - 24.26\n",
      "06:00 PM - 24.88\n",
      "02:00 PM - 25.67\n",
      "10:00 PM - 29.21\n",
      "04:00 PM - 32.32\n",
      "09:00 PM - 33.01\n",
      "12:00 PM - 34.55\n",
      "08:00 PM - 35.24\n",
      "05:00 AM - 36.59\n",
      "05:00 PM - 36.97\n",
      "04:00 AM - 44.3\n",
      "02:00 AM - 54.87\n",
      "01:00 PM - 57.8\n",
      "03:00 PM - 116.23\n",
      "\n",
      "\n",
      "Standard Deviation of Comments By Hour for Show HN\n",
      "10:00 AM - 10.1\n",
      "01:00 AM - 10.65\n",
      "05:00 AM - 10.81\n",
      "03:00 AM - 10.89\n",
      "06:00 AM - 11.02\n",
      "10:00 PM - 11.54\n",
      "08:00 PM - 12.59\n",
      "09:00 PM - 13.6\n",
      "04:00 AM - 13.84\n",
      "03:00 PM - 13.92\n",
      "12:00 AM - 13.99\n",
      "05:00 PM - 14.2\n",
      "11:00 PM - 14.5\n",
      "04:00 PM - 15.2\n",
      "09:00 AM - 16.87\n",
      "11:00 AM - 16.88\n",
      "07:00 PM - 16.91\n",
      "01:00 PM - 16.99\n",
      "08:00 AM - 18.5\n",
      "06:00 PM - 18.52\n",
      "02:00 PM - 20.65\n",
      "12:00 PM - 20.86\n",
      "07:00 AM - 23.88\n",
      "02:00 AM - 24.68\n"
     ]
    }
   ],
   "source": [
    "askHNcommentStDevByHour = commentStDevByHour(askHN, 6, 4)\n",
    "showHNcommentStDevByHour = commentStDevByHour(showHN, 6, 4)\n",
    "\n",
    "print('Standard Deviation of Comments By Hour for Ask HN')\n",
    "for item in askHNcommentStDevByHour: \n",
    "    print(item, '-', askHNcommentStDevByHour[item])\n",
    "print('\\n')\n",
    "print('Standard Deviation of Comments By Hour for Show HN')\n",
    "for item in showHNcommentStDevByHour: \n",
    "    print(item, '-', showHNcommentStDevByHour[item])"
   ]
  },
  {
   "cell_type": "markdown",
   "metadata": {},
   "source": [
    "## Normalize the Frequency Table\n",
    "\n",
    "Our objective for this next part is to find the hour that is best for having high average comment consistently. In this situation we will weigh both high number of comments and consistency the same. Normalizing the frequency tables will allow us to compare the performance of average comments and standard deviation for each hour. The range of the tables will be converted into a 0-1 scale. We can then create a measurement to find which hour will give us the best of both high average comments and high consistency. Below is a function that normalizes the values in a frequency table."
   ]
  },
  {
   "cell_type": "code",
   "execution_count": 17,
   "metadata": {},
   "outputs": [],
   "source": [
    "def normalizeFreqTable(freqTable):\n",
    "    tempList = []\n",
    "    for item in freqTable:    \n",
    "        tempList.append(freqTable[item])\n",
    "    maxNum = max(tempList)\n",
    "    minNum = min(tempList)\n",
    "\n",
    "    freqTableNorm = freqTable.copy()\n",
    "\n",
    "    for item in freqTableNorm:\n",
    "        freqTableNorm[item] = round((freqTableNorm[item]-minNum)/(maxNum-minNum),2)\n",
    "        \n",
    "    return freqTableNorm"
   ]
  },
  {
   "cell_type": "markdown",
   "metadata": {},
   "source": [
    "Below you can see how the function normalizes the values in the dictionary. The first table is the original average comments by hour, The second table is normalizing the first table. 3pm had the highest average comments at 28.68 and so it gets the value of 1 when normalized. The lowest average comment value, 6.65 at 9am, now gets the value of 0. All the other values from the original Ask HN frequency table is in between 0 and 1. "
   ]
  },
  {
   "cell_type": "code",
   "execution_count": 18,
   "metadata": {},
   "outputs": [
    {
     "name": "stdout",
     "output_type": "stream",
     "text": [
      "Ask HN Average Comments\n",
      "03:00 PM - 28.68\n",
      "01:00 PM - 16.32\n",
      "12:00 PM - 12.38\n",
      "02:00 AM - 11.14\n",
      "10:00 AM - 10.68\n",
      "04:00 AM - 9.71\n",
      "02:00 PM - 9.69\n",
      "05:00 PM - 9.45\n",
      "08:00 AM - 9.19\n",
      "11:00 AM - 8.96\n",
      "10:00 PM - 8.8\n",
      "05:00 AM - 8.79\n",
      "08:00 PM - 8.75\n",
      "09:00 PM - 8.69\n",
      "03:00 AM - 7.95\n",
      "06:00 PM - 7.94\n",
      "04:00 PM - 7.71\n",
      "12:00 AM - 7.56\n",
      "01:00 AM - 7.41\n",
      "07:00 PM - 7.16\n",
      "07:00 AM - 7.01\n",
      "06:00 AM - 6.78\n",
      "11:00 PM - 6.7\n",
      "09:00 AM - 6.65\n",
      "\n",
      "\n",
      "Ask HN Average Comments Normalized\n",
      "03:00 PM - 1.0\n",
      "01:00 PM - 0.44\n",
      "12:00 PM - 0.26\n",
      "02:00 AM - 0.2\n",
      "10:00 AM - 0.18\n",
      "04:00 AM - 0.14\n",
      "02:00 PM - 0.14\n",
      "05:00 PM - 0.13\n",
      "08:00 AM - 0.12\n",
      "11:00 AM - 0.1\n",
      "10:00 PM - 0.1\n",
      "05:00 AM - 0.1\n",
      "08:00 PM - 0.1\n",
      "09:00 PM - 0.09\n",
      "03:00 AM - 0.06\n",
      "06:00 PM - 0.06\n",
      "04:00 PM - 0.05\n",
      "12:00 AM - 0.04\n",
      "01:00 AM - 0.03\n",
      "07:00 PM - 0.02\n",
      "07:00 AM - 0.02\n",
      "06:00 AM - 0.01\n",
      "11:00 PM - 0.0\n",
      "09:00 AM - 0.0\n"
     ]
    }
   ],
   "source": [
    "askHNcommentAvgByHourNorm = normalizeFreqTable(askHNcommentAvgByHour)\n",
    "\n",
    "print(\"Ask HN Average Comments\")\n",
    "for item in askHNcommentAvgByHour: \n",
    "    print(item, '-', askHNcommentAvgByHour[item])\n",
    "print(\"\\n\")\n",
    "print(\"Ask HN Average Comments Normalized\")\n",
    "for item in askHNcommentAvgByHourNorm: \n",
    "    print(item, '-', askHNcommentAvgByHourNorm[item])"
   ]
  },
  {
   "cell_type": "code",
   "execution_count": 19,
   "metadata": {},
   "outputs": [
    {
     "name": "stdout",
     "output_type": "stream",
     "text": [
      "11:00 PM - 0.0\n",
      "06:00 AM - 0.01\n",
      "09:00 AM - 0.02\n",
      "03:00 AM - 0.04\n",
      "07:00 PM - 0.05\n",
      "01:00 AM - 0.07\n",
      "07:00 AM - 0.07\n",
      "12:00 AM - 0.08\n",
      "08:00 AM - 0.1\n",
      "10:00 AM - 0.1\n",
      "11:00 AM - 0.11\n",
      "06:00 PM - 0.11\n",
      "02:00 PM - 0.12\n",
      "10:00 PM - 0.16\n",
      "04:00 PM - 0.19\n",
      "09:00 PM - 0.19\n",
      "12:00 PM - 0.21\n",
      "08:00 PM - 0.21\n",
      "05:00 AM - 0.23\n",
      "05:00 PM - 0.23\n",
      "04:00 AM - 0.3\n",
      "02:00 AM - 0.41\n",
      "01:00 PM - 0.43\n",
      "03:00 PM - 1.0\n"
     ]
    }
   ],
   "source": [
    "showHNcommentAvgByHourNorm = normalizeFreqTable(showHNcommentAvgByHour)\n",
    "askHNcommentStDevByHourNorm = normalizeFreqTable(askHNcommentStDevByHour)\n",
    "showHNcommentStDevByHourNorm = normalizeFreqTable(showHNcommentStDevByHour)\n",
    "\n",
    "for item in askHNcommentStDevByHourNorm: \n",
    "    print(item, '-', askHNcommentStDevByHourNorm[item])"
   ]
  },
  {
   "cell_type": "markdown",
   "metadata": {},
   "source": [
    "## Performance Metric\n",
    "Below is a function that uses the two dictionaries we created to make a new metric. We will use the <code>commentavgNorm</code> and <code>StdDevNorm</code>. The formula is as follows:\n",
    "\n",
    "**Performance Metric = commentavgNorm-StdDevNorm**\n",
    "\n",
    "For example, if the 5:00 pm hour has a normalized value of .90 for average comments and a normalized value of .70 for standard deviation. Then the performance indicator value  would be .30. We are assigning a positive value to the normalized value for average comments because higher is better. On the other hand we are assigning a negative value to the normalized value for standard deviation because lower is better. Lower standard deviation means more consistent. With this metric the perfect hour would be a performance metric of 1 this means it has the highest comment average and the lowest standard deviation. On the pother hand the worst hour would be a performance metric of -1. This would indicate a that the hour has the lowest comment average and the highest standard deviation.\n"
   ]
  },
  {
   "cell_type": "code",
   "execution_count": 20,
   "metadata": {},
   "outputs": [],
   "source": [
    "def indicatorDict(AvgByHourNorm, StDevByHourNorm):\n",
    "    indicatorDict = {}\n",
    "    for hour in AvgByHourNorm:\n",
    "        indicatorDict[hour] = round(AvgByHourNorm[hour]-StDevByHourNorm[hour],2)\n",
    "        \n",
    "    indicatorDict = {k: v for k, v in sorted(indicatorDict.items(), key=lambda item: item[1],reverse=True)}\n",
    "        \n",
    "    return indicatorDict"
   ]
  },
  {
   "cell_type": "code",
   "execution_count": 21,
   "metadata": {},
   "outputs": [
    {
     "name": "stdout",
     "output_type": "stream",
     "text": [
      "Ask HN Performance Indicator\n",
      "10:00 AM - 0.08\n",
      "12:00 PM - 0.05\n",
      "02:00 PM - 0.02\n",
      "08:00 AM - 0.02\n",
      "03:00 AM - 0.02\n",
      "01:00 PM - 0.01\n",
      "03:00 PM - 0.0\n",
      "06:00 AM - 0.0\n",
      "11:00 PM - 0.0\n",
      "11:00 AM - -0.01\n",
      "09:00 AM - -0.02\n",
      "07:00 PM - -0.03\n",
      "12:00 AM - -0.04\n",
      "01:00 AM - -0.04\n",
      "06:00 PM - -0.05\n",
      "07:00 AM - -0.05\n",
      "10:00 PM - -0.06\n",
      "05:00 PM - -0.1\n",
      "09:00 PM - -0.1\n",
      "08:00 PM - -0.11\n",
      "05:00 AM - -0.13\n",
      "04:00 PM - -0.14\n",
      "04:00 AM - -0.16\n",
      "02:00 AM - -0.21\n",
      "\n",
      "\n",
      "Show HN Performance Indicator\n",
      "06:00 AM - 0.3\n",
      "12:00 PM - 0.26\n",
      "03:00 AM - 0.26\n",
      "11:00 AM - 0.25\n",
      "04:00 AM - 0.19\n",
      "01:00 AM - 0.14\n",
      "10:00 AM - 0.1\n",
      "01:00 PM - 0.09\n",
      "12:00 AM - 0.07\n",
      "03:00 PM - 0.06\n",
      "08:00 AM - 0.03\n",
      "08:00 PM - 0.03\n",
      "10:00 PM - 0.02\n",
      "04:00 PM - 0.01\n",
      "11:00 PM - 0.01\n",
      "07:00 PM - -0.02\n",
      "07:00 AM - -0.04\n",
      "05:00 PM - -0.05\n",
      "05:00 AM - -0.05\n",
      "09:00 PM - -0.06\n",
      "09:00 AM - -0.11\n",
      "02:00 PM - -0.13\n",
      "06:00 PM - -0.16\n",
      "02:00 AM - -0.52\n"
     ]
    }
   ],
   "source": [
    "askHNcommentPerfIndicator = indicatorDict(askHNcommentAvgByHourNorm, askHNcommentStDevByHourNorm)\n",
    "showHNcommentPerfIndicator = indicatorDict(showHNcommentAvgByHourNorm, showHNcommentStDevByHourNorm)\n",
    "\n",
    "print(\"Ask HN Performance Indicator\")\n",
    "for item in askHNcommentPerfIndicator: \n",
    "    print(item, '-', askHNcommentPerfIndicator[item])\n",
    "print(\"\\n\")\n",
    "print(\"Show HN Performance Indicator\")\n",
    "for item in showHNcommentPerfIndicator: \n",
    "    print(item, '-', showHNcommentPerfIndicator[item])"
   ]
  },
  {
   "cell_type": "markdown",
   "metadata": {},
   "source": [
    "## Conclusion\n",
    "\n",
    "Here are the results if you are looking for high comment average and low standard deviation.\n",
    "\n",
    "\n",
    "For Ask HN you should post between 10:00 am and 10:59 am. This will give you an average comment count of 10.68 and standard deviation of 23.7 which are ranked 5 and 10 respectively.\n",
    "\n",
    "For Show HN you should post between 6:00 am and 6:59 am. This will give you an average comment count of 4.71 and standard deviation of 11.02 which are ranked 12 and 5 respectively."
   ]
  }
 ],
 "metadata": {
  "kernelspec": {
   "display_name": "Python 3",
   "language": "python",
   "name": "python3"
  },
  "language_info": {
   "codemirror_mode": {
    "name": "ipython",
    "version": 3
   },
   "file_extension": ".py",
   "mimetype": "text/x-python",
   "name": "python",
   "nbconvert_exporter": "python",
   "pygments_lexer": "ipython3",
   "version": "3.7.4"
  }
 },
 "nbformat": 4,
 "nbformat_minor": 2
}
