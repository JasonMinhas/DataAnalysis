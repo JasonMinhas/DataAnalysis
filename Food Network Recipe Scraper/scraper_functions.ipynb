{
 "metadata": {
  "language_info": {
   "codemirror_mode": {
    "name": "ipython",
    "version": 3
   },
   "file_extension": ".py",
   "mimetype": "text/x-python",
   "name": "python",
   "nbconvert_exporter": "python",
   "pygments_lexer": "ipython3",
   "version": "3.8.6-final"
  },
  "orig_nbformat": 2,
  "kernelspec": {
   "name": "Python 3.8.6 64-bit",
   "display_name": "Python 3.8.6 64-bit",
   "metadata": {
    "interpreter": {
     "hash": "851ca05279024b0f4b3a2b23df08266f641c757c1f9c44a37086823a4283628e"
    }
   }
  }
 },
 "nbformat": 4,
 "nbformat_minor": 2,
 "cells": [
  {
   "cell_type": "code",
   "execution_count": 2,
   "metadata": {},
   "outputs": [],
   "source": [
    "from bs4 import BeautifulSoup\n",
    "import re\n",
    "import requests"
   ]
  },
  {
   "cell_type": "code",
   "execution_count": null,
   "metadata": {},
   "outputs": [],
   "source": [
    "def clean_search_url(search_keyword, page_num=None):\n",
    "    # lower case everything and replace space with '-' and then add '-' at the end\n",
    "    search_keyword = search_keyword.lower()\n",
    "    search_keyword = search_keyword.strip()\n",
    "    search_keyword = search_keyword.replace(\" \", \"-\")\n",
    "    search_keyword = search_keyword + '-'\n",
    "\n",
    "    if page_num is None:\n",
    "        search_url = f'https://www.foodnetwork.com/search/{search_keyword}/CUSTOM_FACET:RECIPE_FACET'\n",
    "    else:\n",
    "        search_url = f'https://www.foodnetwork.com/search/{search_keyword}/p/{page_num}/CUSTOM_FACET:RECIPE_FACET'\n",
    "\n",
    "    return search_url"
   ]
  },
  {
   "cell_type": "code",
   "execution_count": null,
   "metadata": {},
   "outputs": [],
   "source": [
    "def get_html(url):\n",
    "    source = requests.get(url).text\n",
    "    html_text = BeautifulSoup(source, 'lxml')\n",
    "\n",
    "    return html_text"
   ]
  },
  {
   "cell_type": "code",
   "execution_count": null,
   "metadata": {},
   "outputs": [],
   "source": [
    "def get_ingredients_from_url(recipe_url):\n",
    "    # todo attach each recipe to a list of ingredient\n",
    "    recipe_html = get_html(recipe_url)\n",
    "    recipe_ingredients = recipe_html.find_all('span', class_='o-Ingredients__a-Ingredient--CheckboxLabel')\n",
    "\n",
    "    list_of_ingredients = []\n",
    "\n",
    "    for html_ingredients in recipe_ingredients:\n",
    "        ingredient = html_ingredients.text.lower()\n",
    "        ingredient = ingredient.replace('\\xa0', ' ')\n",
    "        regex_list = [r'\\s*\\(.*\\)', r'\\s*\\d/\\d\\s', r'^[0-9]*', r'\\,.*$']\n",
    "        for regex in regex_list:\n",
    "            ingredient = re.sub(regex, '', ingredient)\n",
    "\n",
    "        list_of_measurements = ['cup', 'cups', 'teaspoon', 'teaspoons', 'tablespoon', 'tablespoons',\n",
    "                                'large', 'medium', 'small', 'inch', 'pound', 'pounds', 'ounce', 'ounces',\n",
    "                                'bunch', 'slice', 'slices', 'package', 'can', 'cans', 'whole', 'piece',\n",
    "                                'frozen', 'melted', 'refrigerated', 'uncooked', 'gram', 'grams']\n",
    "        for measurement in list_of_measurements:\n",
    "            regex = rf'^(.*{measurement}\\s)'\n",
    "            ingredient = re.sub(regex, '', ingredient)\n",
    "        ingredient = ingredient.strip()\n",
    "\n",
    "        list_of_ingredients.append(ingredient)\n",
    "\n",
    "    list_of_ingredients.remove('deselect all')\n",
    "\n",
    "    return list_of_ingredients"
   ]
  }
 ]
}