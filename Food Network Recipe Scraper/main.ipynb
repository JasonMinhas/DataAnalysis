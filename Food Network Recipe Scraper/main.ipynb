{
 "metadata": {
  "language_info": {
   "codemirror_mode": {
    "name": "ipython",
    "version": 3
   },
   "file_extension": ".py",
   "mimetype": "text/x-python",
   "name": "python",
   "nbconvert_exporter": "python",
   "pygments_lexer": "ipython3",
   "version": "3.8.6-final"
  },
  "orig_nbformat": 2,
  "kernelspec": {
   "name": "Python 3.8.6 64-bit",
   "display_name": "Python 3.8.6 64-bit",
   "metadata": {
    "interpreter": {
     "hash": "851ca05279024b0f4b3a2b23df08266f641c757c1f9c44a37086823a4283628e"
    }
   }
  }
 },
 "nbformat": 4,
 "nbformat_minor": 2,
 "cells": [
  {
   "cell_type": "code",
   "execution_count": 1,
   "metadata": {},
   "outputs": [
    {
     "output_type": "stream",
     "name": "stdout",
     "text": [
      "importing Jupyter notebook from scraper_functions.ipynb\nimporting Jupyter notebook from general_functions.ipynb\n"
     ]
    }
   ],
   "source": [
    "import import_ipynb\n",
    "import scraper_functions as sf\n",
    "import general_functions as gf\n",
    "import pandas as pd\n",
    "import time"
   ]
  },
  {
   "cell_type": "code",
   "execution_count": 2,
   "metadata": {},
   "outputs": [],
   "source": [
    "def main():\n",
    "    start_time = time.time()\n",
    "    # todo allow user to select how many recipes they want to look at\n",
    "    search_keyword = 'samosa'\n",
    "    search_url, search_html = get_search_html(search_keyword)\n",
    "    # gf.time_checkpoint('1', start_time)\n",
    "    list_of_page_urls = get_page_urls(search_keyword, search_html)\n",
    "    # gf.time_checkpoint('2', start_time)\n",
    "    list_of_html = get_html_texts(list_of_page_urls)\n",
    "    # gf.time_checkpoint('3', start_time)\n",
    "    recipe_df = extract_recipe_info(list_of_html)\n",
    "    # gf.time_checkpoint('4', start_time)\n",
    "    extract_recipe_ingredients(recipe_df)\n",
    "    # gf.time_checkpoint('5', start_time)\n",
    "    freq_table = analyze_df(recipe_df)\n",
    "    print(freq_table)\n",
    "    print(recipe_df[['name', 'author', 'url']])"
   ]
  },
  {
   "cell_type": "code",
   "execution_count": 3,
   "metadata": {},
   "outputs": [],
   "source": [
    "def get_search_html(search_keyword):\n",
    "    #  get html for search page\n",
    "    search_url = sf.clean_search_url(search_keyword)\n",
    "    search_html = sf.get_html(search_url)\n",
    "\n",
    "    return search_url, search_html"
   ]
  },
  {
   "cell_type": "code",
   "execution_count": 4,
   "metadata": {},
   "outputs": [],
   "source": [
    "def get_page_urls(search_keyword, search_html):\n",
    "    # get list of urls using first page html\n",
    "    page_urls = search_html.find_all('li', class_='o-Pagination__a-ListItem')\n",
    "\n",
    "    max_page = 1\n",
    "\n",
    "    for page in page_urls:\n",
    "        clean_page_num = page.text.strip()\n",
    "        try:\n",
    "            clean_page_num = int(clean_page_num)\n",
    "            if clean_page_num > max_page:\n",
    "                max_page = clean_page_num\n",
    "        except:\n",
    "            pass\n",
    "\n",
    "    list_of_page_urls = [sf.clean_search_url(search_keyword)]\n",
    "\n",
    "    # create list of reciepe urls\n",
    "    if max_page >= 2:\n",
    "        for page_num in range(2, max_page + 1):\n",
    "            clean_url = sf.clean_search_url(search_keyword, page_num=page_num)\n",
    "            list_of_page_urls.append(clean_url)\n",
    "\n",
    "    return list_of_page_urls"
   ]
  },
  {
   "cell_type": "code",
   "execution_count": 5,
   "metadata": {},
   "outputs": [],
   "source": [
    "def get_html_texts(list_of_page_urls):\n",
    "    # get html text for all page that come up in search of keyword\n",
    "    list_of_html = []\n",
    "\n",
    "    for url in list_of_page_urls:\n",
    "        html = sf.get_html(url)\n",
    "        list_of_html.append(html)\n",
    "\n",
    "    return list_of_html"
   ]
  },
  {
   "cell_type": "code",
   "execution_count": 6,
   "metadata": {},
   "outputs": [],
   "source": [
    "def extract_recipe_info(list_of_html):\n",
    "    # create df of name, author and link to recipe\n",
    "    recipe_df = pd.DataFrame(columns=['name', 'author', 'ingredients', 'url'])\n",
    "\n",
    "    for html in list_of_html:\n",
    "            searches_html = html.find_all('section', class_='o-RecipeResult o-ResultCard')\n",
    "\n",
    "            for recipe in searches_html:\n",
    "                recipe_name = recipe.find('a', class_='').span.text\n",
    "                try:\n",
    "                    recipe_author = recipe.find('span', class_='m-Info__a-AssetInfo').text.lstrip('Courtesy of ')\n",
    "                except:\n",
    "                    recipe_author = 'Unknown Author'\n",
    "                recipe_url = f\"http://{recipe.find('a', class_='')['href'].lstrip('/')}\"\n",
    "                recipe_df = recipe_df.append({'name': recipe_name, 'author': recipe_author, 'url': recipe_url},\n",
    "                                             ignore_index=True)\n",
    "\n",
    "    return recipe_df"
   ]
  },
  {
   "cell_type": "code",
   "execution_count": 7,
   "metadata": {},
   "outputs": [],
   "source": [
    "def extract_recipe_ingredients(recipe_df):\n",
    "    for recipe_url in recipe_df.url:\n",
    "        try:\n",
    "            recipe_ingredients = sf.get_ingredients_from_url(recipe_url)\n",
    "        except:\n",
    "            recipe_ingredients = None\n",
    "\n",
    "        url_index = recipe_df.url[recipe_df.url == recipe_url].index[0]\n",
    "        recipe_df.at[url_index, 'ingredients'] = recipe_ingredients"
   ]
  },
  {
   "cell_type": "code",
   "execution_count": 8,
   "metadata": {},
   "outputs": [],
   "source": [
    "def analyze_df(recipe_df):\n",
    "    main_ingredients_series = pd.Series(dtype=str)\n",
    "\n",
    "    for ingredients_list in recipe_df['ingredients']:\n",
    "        if ingredients_list is not None:\n",
    "            ingredients_series = pd.Series(ingredients_list)\n",
    "            main_ingredients_series = main_ingredients_series.append(ingredients_series, ignore_index=True)\n",
    "\n",
    "    # todo make percentage and make another tab to put this in\n",
    "    freq_table = main_ingredients_series.value_counts()\n",
    "\n",
    "    return freq_table"
   ]
  },
  {
   "cell_type": "code",
   "execution_count": 9,
   "metadata": {},
   "outputs": [
    {
     "output_type": "stream",
     "name": "stdout",
     "text": [
      "salt                                                           18\nvegetable oil                                                  11\nall-purpose flour                                               9\nwater                                                           7\nkosher salt                                                     6\ncumin seeds                                                     5\nground cumin                                                    5\nlemon juice                                                     5\ngaram masala                                                    5\nlemon                                                           4\nminced fresh ginger                                             4\ncurry powder                                                    4\npotatoes                                                        4\npeas                                                            4\nplain yogurt                                                    4\nchopped fresh cilantro                                          3\nserrano chile                                                   3\nbutter                                                          3\nbrown sugar                                                     3\nghee or clarified butter or oil                                 3\nground coriander                                                3\ncold water                                                      2\nred chile powder                                                2\nonion                                                           2\nrusset potato                                                   2\ncloves garlic                                                   2\nclove garlic                                                    2\ngreen peas                                                      2\ncumin                                                           2\nchutney                                                         2\ngrapeseed oil                                                   2\nnew potatoes                                                    2\ncilantro                                                        2\nsauce                                                           2\nsalt and freshly ground black pepper                            2\najwain seeds                                                    2\ngarlic clove                                                    2\nground turmeric                                                 2\nkosher salt and freshly ground black pepper                     2\nfresh ginger                                                    2\nolive oil                                                       2\nreduced fat crescent dinner rolls                               2\nturmeric                                                        2\nwhite onion                                                     2\nsesame seeds                                                    2\ndash pepper                                                     2\ncayenne                                                         2\ncayenne pepper                                                  2\nchopped fresh cilantro leaves                                   2\nminced onion                                                    2\nearly peas                                                      2\npepper to taste                                                 2\ncold water as needed                                            2\nfreshly ground black pepper                                     2\negg                                                             2\nbaking potatoes                                                 2\nmustard seeds                                                   2\nwarm water                                                      1\nthumb ginger                                                    1\nminced fresh garlic                                             1\nground black pepper                                             1\ncloves of garlic                                                1\nbuttermilk                                                      1\ntamarind paste                                                  1\nchopped green onion                                             1\nchopped fresh coriander leaves                                  1\nginger                                                          1\nfresh lemon juice                                               1\ncloves crushed garlic                                           1\nphyllo pastry dough                                             1\ncider vinegar                                                   1\nbig handful cilantro leaves                                     1\nlow-sodium vegetable stock                                      1\nfresh mint leaves                                               1\njuice of 1 lime                                                 1\nlime                                                            1\nto 5 thin scallions                                             1\nmint leaves                                                     1\nfresh sage leaves                                               1\nground beef                                                     1\nmint                                                            1\ncheese                                                          1\nfreshly chopped cilantro leaves                                 1\nvegetable/canola oil                                            1\nfresh cilantro leaves                                           1\nspinach                                                         1\nhot green chiles                                                1\nchopped onion                                                   1\nred chile                                                       1\nold el paso® chopped green chiles                               1\nfinely minced onion                                             1\noil                                                             1\nground red chili powder                                         1\nmango                                                           1\ngaram masala spice blend                                        1\nthai bird chiles                                                1\nrusset potatoes                                                 1\nserving suggestion: tamarind sauce or your favorite chutney     1\nice water                                                       1\nstore-bought or homemade ghee or oil                            1\nboneless                                                        1\nhabenero chile                                                  1\nhot green chile peppers                                         1\nground lamb                                                     1\napple butter                                                    1\ngrated asiago cheese                                            1\nturns freshly ground black pepper                               1\nsalt and pepper                                                 1\nbuttermilk or yogurt                                            1\nchipotle sauce                                                  1\njuice oflime                                                    1\ncarrots                                                         1\njuice of 1 lemon                                                1\ngranulated sugar                                                1\nunsalted butter                                                 1\ncorn                                                            1\nflour                                                           1\ncoriander seeds                                                 1\nred chili flakes                                                1\npar-cooked and drained green peas                               1\nof plain unsweetened natural yogurt                             1\ngreen apple                                                     1\nground cinnamon                                                 1\nonions                                                          1\nchicken thighs                                                  1\nghee                                                            1\nblack mustard seeds                                             1\ngarlic puree                                                    1\nfine salt                                                       1\nred onion                                                       1\nground coriander seeds                                          1\nfinely chopped ginger                                           1\ncilantro leaves and soft stems                                  1\ncreme fraiche                                                   1\nnigella seeds                                                   1\nof canned cooked chickpeas                                      1\nneutral oil                                                     1\nchopped fresh mint leaves                                       1\nwonton wrappers                                                 1\nlime juice                                                      1\nraita                                                           1\npackages puff pastry                                            1\ncooked peas                                                     1\nsquare wonton wrappers                                          1\nred potatoes                                                    1\nself-rising flour                                               1\ncubed cooked turkey or rotisserie chicken                       1\nfinely chopped garlic                                           1\nfreshly grated ginger                                           1\nto 20 spring roll wrappers                                      1\nbrown mustard seeds                                             1\nsoy sauce                                                       1\nenglish cucumber                                                1\nsugar                                                           1\nflaky sea salt                                                  1\ndried coriander                                                 1\nhot green chile                                                 1\nblack peppercorns                                               1\ndried mango powder*                                             1\nchopped green chiles                                            1\nminced garlic                                                   1\nfinely diced white onion                                        1\nyellow onion                                                    1\nvegetable oil or olive oil                                      1\nfreshly squeezed lemon juice                                    1\nchopped cilantro leaves                                         1\nfinely chopped fresh ginger                                     1\ndried cranberries                                               1\ngari                                                            1\nfresh turmeric                                                  1\nsplash water                                                    1\nchili flakes                                                    1\nground chicken                                                  1\nextra flour as needed                                           1\negg roll wrappers                                               1\njuice of 1 meyer lemon                                          1\nrice wine vinegar                                               1\nbay leaves                                                      1\najawain                                                         1\nchopped yellow onions                                           1\ncinnamon                                                        1\nketchup                                                         1\nmixed peas                                                      1\ndtype: int64\n                                                 name                            author                                                url\n0                                    The Best Samosas              Food Network Kitchen  http://www.foodnetwork.com/recipes/aloo-samosa...\n1             Spiced Potato-stuffed Pastries: Samosas  Michelle Greenwald|Shoba Narayan  http://www.foodnetwork.com/recipes/spiced-pota...\n2                                Thanksgiving Samosas                    Aarti Sequeira  http://www.foodnetwork.com/recipes/aarti-seque...\n3                                   Vegetable Samosas              Food Network Kitchen  http://www.foodnetwork.com/recipes/food-networ...\n4                         Samosas with Tamarind Sauce                       Palak Patel  http://www.foodnetwork.com/recipes/samosas-wit...\n5                                   Vegetable Samosas                         No Author  http://www.foodnetwork.com/recipes/vegetable-s...\n6                     Baked Samosas with Mint Chutney                    Aarti Sequeira  http://www.foodnetwork.com/recipes/winner-aart...\n7                         Chicken and Spinach Samosas                    Tyler Florence  http://www.foodnetwork.com/recipes/tyler-flore...\n8   Indian Lamb Samosas with Fresh Mint Dipping Sauce                         No Author  http://www.foodnetwork.com/recipes/indian-lamb...\n9                                Cheeseburger Samosas                          Jess Tom  http://www.foodnetwork.com/recipes/cheeseburge...\n10                                   Crescent Samosas                    Unknown Author  http://www.foodnetwork.com/recipes/crescent-sa...\n11                                  Vegetable Samosas                   Stuart O'Keeffe  http://www.foodnetwork.com/recipes/vegetable-s...\n12                                   Crescent Samosas                    Unknown Author  http://www.foodnetwork.com/recipes/crescent-sa...\n13  Mediterranean Chicken Samosas with Apple Cumin...                     Roger Mooking  http://www.foodnetwork.com/recipes/mediterrane...\n14           Samosas: Fried Indian Vegetable Pastries                         No Author  http://www.foodnetwork.com/recipes/samosas-fri...\n15                             Potato and Pea Samosas                       Anjum Anand  http://www.foodnetwork.com/recipes/potato-and-...\n16                                            Samosas                     Mollie Katzen  http://www.foodnetwork.com/recipes/samosas-rec...\n"
     ]
    }
   ],
   "source": [
    "if __name__ == '__main__':\n",
    "    gf.display_settings(display_width=2000)\n",
    "    main()"
   ]
  }
 ]
}