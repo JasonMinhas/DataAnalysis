{
 "metadata": {
  "language_info": {
   "codemirror_mode": {
    "name": "ipython",
    "version": 3
   },
   "file_extension": ".py",
   "mimetype": "text/x-python",
   "name": "python",
   "nbconvert_exporter": "python",
   "pygments_lexer": "ipython3",
   "version": "3.8.6-final"
  },
  "orig_nbformat": 2,
  "kernelspec": {
   "name": "Python 3.8.6 64-bit",
   "display_name": "Python 3.8.6 64-bit",
   "metadata": {
    "interpreter": {
     "hash": "851ca05279024b0f4b3a2b23df08266f641c757c1f9c44a37086823a4283628e"
    }
   }
  }
 },
 "nbformat": 4,
 "nbformat_minor": 2,
 "cells": [
  {
   "cell_type": "code",
   "execution_count": 1,
   "metadata": {},
   "outputs": [],
   "source": [
    "import pandas as pd\n",
    "import datetime as dt\n",
    "import time\n",
    "import os"
   ]
  },
  {
   "cell_type": "code",
   "execution_count": 2,
   "metadata": {},
   "outputs": [],
   "source": [
    "def display_settings(max_rows=500, max_columns=20, display_width=1000):\n",
    "    pd.set_option('display.max_rows', max_rows)\n",
    "    pd.set_option('display.max_columns', max_columns)\n",
    "    pd.set_option('display.width', display_width)"
   ]
  },
  {
   "cell_type": "code",
   "execution_count": 3,
   "metadata": {},
   "outputs": [],
   "source": [
    "def time_checkpoint(checkpoint_message, start_time):\n",
    "    \"\"\"\n",
    "    :param checkpoint_message: check point message to be printed\n",
    "    :param start_time: start time in float. this should be at the start of the portion you are testing\n",
    "    :return: message with current time minus start time\n",
    "    \"\"\"\n",
    "    seconds = int(round(time.time() - start_time))\n",
    "    stopwatch = dt.timedelta(seconds=seconds)\n",
    "    print(checkpoint_message, \" \", stopwatch)"
   ]
  },
  {
   "cell_type": "code",
   "execution_count": 4,
   "metadata": {},
   "outputs": [],
   "source": [
    "def custom_round(series, round_list):\n",
    "    \"\"\"\n",
    "    :param series: int series to be rounded\n",
    "    :param round_list: list of numbers you want to round to. ex [15, 30, 60, 120]\n",
    "    :return: series with argument series rounded to given int list\n",
    "    \"\"\"\n",
    "    boundaries = pd.Series(round_list)\n",
    "    rounded_series = series.map(lambda pt: boundaries[(boundaries - pt).abs().argmin()])\n",
    "    return rounded_series"
   ]
  },
  {
   "cell_type": "code",
   "execution_count": 5,
   "metadata": {},
   "outputs": [],
   "source": [
    "def combine_workbooks_to_df(folder_location, skip_rows=0):\n",
    "    \"\"\"\n",
    "    :param skip_rows: how many rows to skip\n",
    "    :param folder_location: location of .CSV or .XLSX file to be combined\n",
    "    :return: df with merged files\n",
    "    \"\"\"\n",
    "    file_list = os.listdir(folder_location)\n",
    "    save_loc_list = []\n",
    "\n",
    "    for File in file_list:\n",
    "        save_loc = folder_location + r'/' + File\n",
    "        save_loc_list.append(save_loc)\n",
    "\n",
    "    main_df = pd.DataFrame()\n",
    "\n",
    "    for file in save_loc_list:\n",
    "        file_ext = os.path.splitext(file)[-1]\n",
    "        if file_ext == '.xlsx':\n",
    "            temp_df = pd.read_excel(io=file, header=0, skiprows=skip_rows)\n",
    "        elif file_ext == '.csv':\n",
    "            temp_df = pd.read_csv(filepath_or_buffer=file, header=0, skiprows=skip_rows)\n",
    "        else:\n",
    "            print(file + ' is not a .CSV or .XLSX file type')\n",
    "\n",
    "        temp_df.dropna(how='all', inplace=True)\n",
    "        main_df = pd.concat(objs=[main_df, temp_df], ignore_index=True)\n",
    "\n",
    "    return main_df"
   ]
  },
  {
   "cell_type": "code",
   "execution_count": 6,
   "metadata": {},
   "outputs": [],
   "source": [
    "def save_df_to_excel(df, save_path, df_date_header=None, overwrite=False):\n",
    "    \"\"\"\n",
    "    :param df: df to save\n",
    "    :param save_path: location to save df\n",
    "    :param df_date_header:\n",
    "    :param overwrite: option to overwrite existing file or name as next version number\n",
    "    :return: .XSLX file saved to given location\n",
    "    \"\"\"\n",
    "    if df_date_header is not None:\n",
    "        df[df_date_header] = pd.to_datetime(df[df_date_header])\n",
    "        min_date = df[df_date_header].min().strftime('%m.%d.%Y')\n",
    "        max_date = df[df_date_header].max().strftime('%m.%d.%Y')\n",
    "        save_path = save_path + '_' + min_date + '-' + max_date\n",
    "\n",
    "    if overwrite:\n",
    "        df.to_excel(excel_writer=save_path + '.xlsx', index=False)\n",
    "    else:\n",
    "        i, save_path_alt = 0, save_path\n",
    "        while os.path.isfile(save_path_alt + '.xlsx'):\n",
    "            version_num = 'V' + str(i + 2)\n",
    "            save_path_alt = save_path + '_' + version_num\n",
    "            i += 1\n",
    "        df.to_excel(excel_writer=save_path_alt + '.xlsx', index=False)"
   ]
  },
  {
   "cell_type": "code",
   "execution_count": 7,
   "metadata": {},
   "outputs": [],
   "source": [
    "def uid_creator(df, list_of_id, insert_loc_index=0):\n",
    "    \"\"\"\n",
    "    :param df:\n",
    "    :param list_of_id: headers to combine into UID\n",
    "    :return: df with UID column\n",
    "    \"\"\"\n",
    "    uid_df = df[list_of_id]\n",
    "    uid_series = uid_df[uid_df.columns].apply(\n",
    "        lambda x: ','.join(x.dropna().astype(str)), axis=1)\n",
    "    df.insert(loc=insert_loc_index, column=\"UID\", value=uid_series)\n",
    "\n",
    "    return df"
   ]
  }
 ]
}