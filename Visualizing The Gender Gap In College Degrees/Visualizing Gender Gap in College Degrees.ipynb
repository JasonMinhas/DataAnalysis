{
 "metadata": {
  "language_info": {
   "codemirror_mode": {
    "name": "ipython",
    "version": 3
   },
   "file_extension": ".py",
   "mimetype": "text/x-python",
   "name": "python",
   "nbconvert_exporter": "python",
   "pygments_lexer": "ipython3",
   "version": "3.8.6-final"
  },
  "orig_nbformat": 2,
  "kernelspec": {
   "name": "python3",
   "display_name": "Python 3.8.6 64-bit",
   "metadata": {
    "interpreter": {
     "hash": "851ca05279024b0f4b3a2b23df08266f641c757c1f9c44a37086823a4283628e"
    }
   }
  }
 },
 "nbformat": 4,
 "nbformat_minor": 2,
 "cells": [
  {
   "source": [
    "# Visualizing Gender Gap in College Degrees"
   ],
   "cell_type": "markdown",
   "metadata": {}
  },
  {
   "cell_type": "code",
   "execution_count": 5,
   "metadata": {},
   "outputs": [],
   "source": [
    "import pandas as pd"
   ]
  },
  {
   "cell_type": "code",
   "execution_count": 6,
   "metadata": {},
   "outputs": [],
   "source": [
    "dataset_url = 'http://www.randalolson.com/wp-content/uploads/percent-bachelors-degrees-women-usa.csv'\n",
    "df = pd.read_csv(dataset_url)"
   ]
  },
  {
   "cell_type": "code",
   "execution_count": 7,
   "metadata": {},
   "outputs": [
    {
     "output_type": "execute_result",
     "data": {
      "text/plain": [
       "   Year  Agriculture  Architecture  Art and Performance    Biology   Business  \\\n",
       "0  1970     4.229798     11.921005                 59.7  29.088363   9.064439   \n",
       "1  1971     5.452797     12.003106                 59.9  29.394403   9.503187   \n",
       "2  1972     7.420710     13.214594                 60.4  29.810221  10.558962   \n",
       "3  1973     9.653602     14.791613                 60.2  31.147915  12.804602   \n",
       "4  1974    14.074623     17.444688                 61.9  32.996183  16.204850   \n",
       "\n",
       "   Communications and Journalism  Computer Science  Education  Engineering  \\\n",
       "0                           35.3              13.6  74.535328          0.8   \n",
       "1                           35.5              13.6  74.149204          1.0   \n",
       "2                           36.6              14.9  73.554520          1.2   \n",
       "3                           38.4              16.4  73.501814          1.6   \n",
       "4                           40.5              18.9  73.336811          2.2   \n",
       "\n",
       "     English  Foreign Languages  Health Professions  Math and Statistics  \\\n",
       "0  65.570923               73.8                77.1                 38.0   \n",
       "1  64.556485               73.9                75.5                 39.0   \n",
       "2  63.664263               74.6                76.9                 40.2   \n",
       "3  62.941502               74.9                77.4                 40.9   \n",
       "4  62.413412               75.3                77.9                 41.8   \n",
       "\n",
       "   Physical Sciences  Psychology  Public Administration  \\\n",
       "0               13.8        44.4                   68.4   \n",
       "1               14.9        46.2                   65.5   \n",
       "2               14.8        47.6                   62.6   \n",
       "3               16.5        50.4                   64.3   \n",
       "4               18.2        52.6                   66.1   \n",
       "\n",
       "   Social Sciences and History  \n",
       "0                         36.8  \n",
       "1                         36.2  \n",
       "2                         36.1  \n",
       "3                         36.4  \n",
       "4                         37.3  "
      ],
      "text/html": "<div>\n<style scoped>\n    .dataframe tbody tr th:only-of-type {\n        vertical-align: middle;\n    }\n\n    .dataframe tbody tr th {\n        vertical-align: top;\n    }\n\n    .dataframe thead th {\n        text-align: right;\n    }\n</style>\n<table border=\"1\" class=\"dataframe\">\n  <thead>\n    <tr style=\"text-align: right;\">\n      <th></th>\n      <th>Year</th>\n      <th>Agriculture</th>\n      <th>Architecture</th>\n      <th>Art and Performance</th>\n      <th>Biology</th>\n      <th>Business</th>\n      <th>Communications and Journalism</th>\n      <th>Computer Science</th>\n      <th>Education</th>\n      <th>Engineering</th>\n      <th>English</th>\n      <th>Foreign Languages</th>\n      <th>Health Professions</th>\n      <th>Math and Statistics</th>\n      <th>Physical Sciences</th>\n      <th>Psychology</th>\n      <th>Public Administration</th>\n      <th>Social Sciences and History</th>\n    </tr>\n  </thead>\n  <tbody>\n    <tr>\n      <th>0</th>\n      <td>1970</td>\n      <td>4.229798</td>\n      <td>11.921005</td>\n      <td>59.7</td>\n      <td>29.088363</td>\n      <td>9.064439</td>\n      <td>35.3</td>\n      <td>13.6</td>\n      <td>74.535328</td>\n      <td>0.8</td>\n      <td>65.570923</td>\n      <td>73.8</td>\n      <td>77.1</td>\n      <td>38.0</td>\n      <td>13.8</td>\n      <td>44.4</td>\n      <td>68.4</td>\n      <td>36.8</td>\n    </tr>\n    <tr>\n      <th>1</th>\n      <td>1971</td>\n      <td>5.452797</td>\n      <td>12.003106</td>\n      <td>59.9</td>\n      <td>29.394403</td>\n      <td>9.503187</td>\n      <td>35.5</td>\n      <td>13.6</td>\n      <td>74.149204</td>\n      <td>1.0</td>\n      <td>64.556485</td>\n      <td>73.9</td>\n      <td>75.5</td>\n      <td>39.0</td>\n      <td>14.9</td>\n      <td>46.2</td>\n      <td>65.5</td>\n      <td>36.2</td>\n    </tr>\n    <tr>\n      <th>2</th>\n      <td>1972</td>\n      <td>7.420710</td>\n      <td>13.214594</td>\n      <td>60.4</td>\n      <td>29.810221</td>\n      <td>10.558962</td>\n      <td>36.6</td>\n      <td>14.9</td>\n      <td>73.554520</td>\n      <td>1.2</td>\n      <td>63.664263</td>\n      <td>74.6</td>\n      <td>76.9</td>\n      <td>40.2</td>\n      <td>14.8</td>\n      <td>47.6</td>\n      <td>62.6</td>\n      <td>36.1</td>\n    </tr>\n    <tr>\n      <th>3</th>\n      <td>1973</td>\n      <td>9.653602</td>\n      <td>14.791613</td>\n      <td>60.2</td>\n      <td>31.147915</td>\n      <td>12.804602</td>\n      <td>38.4</td>\n      <td>16.4</td>\n      <td>73.501814</td>\n      <td>1.6</td>\n      <td>62.941502</td>\n      <td>74.9</td>\n      <td>77.4</td>\n      <td>40.9</td>\n      <td>16.5</td>\n      <td>50.4</td>\n      <td>64.3</td>\n      <td>36.4</td>\n    </tr>\n    <tr>\n      <th>4</th>\n      <td>1974</td>\n      <td>14.074623</td>\n      <td>17.444688</td>\n      <td>61.9</td>\n      <td>32.996183</td>\n      <td>16.204850</td>\n      <td>40.5</td>\n      <td>18.9</td>\n      <td>73.336811</td>\n      <td>2.2</td>\n      <td>62.413412</td>\n      <td>75.3</td>\n      <td>77.9</td>\n      <td>41.8</td>\n      <td>18.2</td>\n      <td>52.6</td>\n      <td>66.1</td>\n      <td>37.3</td>\n    </tr>\n  </tbody>\n</table>\n</div>"
     },
     "metadata": {},
     "execution_count": 7
    }
   ],
   "source": [
    "df.head()"
   ]
  }
 ]
}